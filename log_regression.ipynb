{
  "nbformat": 4,
  "nbformat_minor": 0,
  "metadata": {
    "colab": {
      "name": "log_regression.ipynb",
      "provenance": [],
      "collapsed_sections": [],
      "toc_visible": true,
      "authorship_tag": "ABX9TyPaGrHGYVE1rgenBcIoxmnd",
      "include_colab_link": true
    },
    "kernelspec": {
      "name": "python3",
      "display_name": "Python 3"
    },
    "language_info": {
      "name": "python"
    }
  },
  "cells": [
    {
      "cell_type": "markdown",
      "metadata": {
        "id": "view-in-github",
        "colab_type": "text"
      },
      "source": [
        "<a href=\"https://colab.research.google.com/github/ProsperChuks/logistic-regression/blob/main/log_regression.ipynb\" target=\"_parent\"><img src=\"https://colab.research.google.com/assets/colab-badge.svg\" alt=\"Open In Colab\"/></a>"
      ]
    },
    {
      "cell_type": "code",
      "metadata": {
        "id": "oeCTzENy_15K"
      },
      "source": [
        "import numpy as np\n",
        "import pandas as pd\n",
        "from sklearn.linear_model import LogisticRegression\n",
        "from sklearn.metrics import classification_report, confusion_matrix"
      ],
      "execution_count": 29,
      "outputs": []
    },
    {
      "cell_type": "code",
      "metadata": {
        "id": "agSl5lAOAORh",
        "colab": {
          "base_uri": "https://localhost:8080/",
          "height": 226
        },
        "outputId": "36594ebb-f2e7-43f6-a5f1-d1afe377fb60"
      },
      "source": [
        "dataf = pd.read_csv('https://query.data.world/s/wh6j7rxy2hvrn4ml75ci62apk5hgae')\n",
        "dataf.head()"
      ],
      "execution_count": 30,
      "outputs": [
        {
          "output_type": "execute_result",
          "data": {
            "text/html": [
              "<div>\n",
              "<style scoped>\n",
              "    .dataframe tbody tr th:only-of-type {\n",
              "        vertical-align: middle;\n",
              "    }\n",
              "\n",
              "    .dataframe tbody tr th {\n",
              "        vertical-align: top;\n",
              "    }\n",
              "\n",
              "    .dataframe thead th {\n",
              "        text-align: right;\n",
              "    }\n",
              "</style>\n",
              "<table border=\"1\" class=\"dataframe\">\n",
              "  <thead>\n",
              "    <tr style=\"text-align: right;\">\n",
              "      <th></th>\n",
              "      <th>country</th>\n",
              "      <th>year</th>\n",
              "      <th>country_code</th>\n",
              "      <th>record</th>\n",
              "      <th>crop_land</th>\n",
              "      <th>grazing_land</th>\n",
              "      <th>forest_land</th>\n",
              "      <th>fishing_ground</th>\n",
              "      <th>built_up_land</th>\n",
              "      <th>carbon</th>\n",
              "      <th>total</th>\n",
              "      <th>QScore</th>\n",
              "    </tr>\n",
              "  </thead>\n",
              "  <tbody>\n",
              "    <tr>\n",
              "      <th>0</th>\n",
              "      <td>Armenia</td>\n",
              "      <td>1992</td>\n",
              "      <td>1</td>\n",
              "      <td>AreaPerCap</td>\n",
              "      <td>0.140292</td>\n",
              "      <td>0.199546</td>\n",
              "      <td>0.097188051</td>\n",
              "      <td>0.036888</td>\n",
              "      <td>0.029320</td>\n",
              "      <td>0.000000</td>\n",
              "      <td>5.032351e-01</td>\n",
              "      <td>3A</td>\n",
              "    </tr>\n",
              "    <tr>\n",
              "      <th>1</th>\n",
              "      <td>Armenia</td>\n",
              "      <td>1992</td>\n",
              "      <td>1</td>\n",
              "      <td>AreaTotHA</td>\n",
              "      <td>483000.000000</td>\n",
              "      <td>687000.000000</td>\n",
              "      <td>334600</td>\n",
              "      <td>127000.000000</td>\n",
              "      <td>100943.000800</td>\n",
              "      <td>0.000000</td>\n",
              "      <td>1.732543e+06</td>\n",
              "      <td>3A</td>\n",
              "    </tr>\n",
              "    <tr>\n",
              "      <th>2</th>\n",
              "      <td>Armenia</td>\n",
              "      <td>1992</td>\n",
              "      <td>1</td>\n",
              "      <td>BiocapPerCap</td>\n",
              "      <td>0.159804</td>\n",
              "      <td>0.135261</td>\n",
              "      <td>0.084003213</td>\n",
              "      <td>0.013742</td>\n",
              "      <td>0.033398</td>\n",
              "      <td>0.000000</td>\n",
              "      <td>4.262086e-01</td>\n",
              "      <td>3A</td>\n",
              "    </tr>\n",
              "    <tr>\n",
              "      <th>3</th>\n",
              "      <td>Armenia</td>\n",
              "      <td>1992</td>\n",
              "      <td>1</td>\n",
              "      <td>BiocapTotGHA</td>\n",
              "      <td>550176.242700</td>\n",
              "      <td>465677.972200</td>\n",
              "      <td>289207.1078</td>\n",
              "      <td>47311.551720</td>\n",
              "      <td>114982.279300</td>\n",
              "      <td>0.000000</td>\n",
              "      <td>1.467355e+06</td>\n",
              "      <td>3A</td>\n",
              "    </tr>\n",
              "    <tr>\n",
              "      <th>4</th>\n",
              "      <td>Armenia</td>\n",
              "      <td>1992</td>\n",
              "      <td>1</td>\n",
              "      <td>EFConsPerCap</td>\n",
              "      <td>0.387510</td>\n",
              "      <td>0.189462</td>\n",
              "      <td>1.26E-06</td>\n",
              "      <td>0.004165</td>\n",
              "      <td>0.033398</td>\n",
              "      <td>1.114093</td>\n",
              "      <td>1.728629e+00</td>\n",
              "      <td>3A</td>\n",
              "    </tr>\n",
              "  </tbody>\n",
              "</table>\n",
              "</div>"
            ],
            "text/plain": [
              "   country  year  country_code  ...    carbon         total  QScore\n",
              "0  Armenia  1992             1  ...  0.000000  5.032351e-01      3A\n",
              "1  Armenia  1992             1  ...  0.000000  1.732543e+06      3A\n",
              "2  Armenia  1992             1  ...  0.000000  4.262086e-01      3A\n",
              "3  Armenia  1992             1  ...  0.000000  1.467355e+06      3A\n",
              "4  Armenia  1992             1  ...  1.114093  1.728629e+00      3A\n",
              "\n",
              "[5 rows x 12 columns]"
            ]
          },
          "metadata": {},
          "execution_count": 30
        }
      ]
    },
    {
      "cell_type": "markdown",
      "metadata": {
        "id": "IZNpEi3G7brA"
      },
      "source": [
        "Preparing the Data"
      ]
    },
    {
      "cell_type": "code",
      "metadata": {
        "colab": {
          "base_uri": "https://localhost:8080/"
        },
        "id": "W3uYK8TpVY99",
        "outputId": "485ec7f4-783f-4f13-ec06-6c7e72cba386"
      },
      "source": [
        "print(dataf['QScore'].value_counts())\n",
        "print('\\n')\n",
        "print(dataf.isnull().sum())\n",
        "print('\\n')\n",
        "dataf = dataf.dropna()\n",
        "print(dataf.isnull().sum())\n",
        "print('\\n')\n",
        "print(dataf['QScore'].value_counts())"
      ],
      "execution_count": 31,
      "outputs": [
        {
          "output_type": "stream",
          "name": "stdout",
          "text": [
            "3A    51481\n",
            "2A    10576\n",
            "2B    10096\n",
            "1B       16\n",
            "1A       16\n",
            "Name: QScore, dtype: int64\n",
            "\n",
            "\n",
            "country               0\n",
            "year                  0\n",
            "country_code          0\n",
            "record                0\n",
            "crop_land         20472\n",
            "grazing_land      20472\n",
            "forest_land       20472\n",
            "fishing_ground    20473\n",
            "built_up_land     20473\n",
            "carbon            20473\n",
            "total                 9\n",
            "QScore                1\n",
            "dtype: int64\n",
            "\n",
            "\n",
            "country           0\n",
            "year              0\n",
            "country_code      0\n",
            "record            0\n",
            "crop_land         0\n",
            "grazing_land      0\n",
            "forest_land       0\n",
            "fishing_ground    0\n",
            "built_up_land     0\n",
            "carbon            0\n",
            "total             0\n",
            "QScore            0\n",
            "dtype: int64\n",
            "\n",
            "\n",
            "3A    51473\n",
            "2A      224\n",
            "1A       16\n",
            "Name: QScore, dtype: int64\n"
          ]
        }
      ]
    },
    {
      "cell_type": "markdown",
      "metadata": {
        "id": "FHwdpNIMackK"
      },
      "source": [
        "used oversampling to correct the imbalance between the classes - making it a binary classification problem"
      ]
    },
    {
      "cell_type": "code",
      "metadata": {
        "colab": {
          "base_uri": "https://localhost:8080/"
        },
        "id": "McJ_uV6Caap-",
        "outputId": "2b62f82e-d89d-4746-fba7-4749b08663d2"
      },
      "source": [
        "dataf['QScore'] = dataf['QScore'].replace(['1A'], '2A')\n",
        "dataf['QScore'].value_counts()\n",
        "\n",
        "df_2A = dataf[dataf.QScore == '2A']\n",
        "df_3A = dataf[dataf.QScore == '3A'].sample(350)\n",
        "class_df = df_2A.append(df_3A)\n",
        "\n",
        "import sklearn.utils\n",
        "class_df = sklearn.utils.shuffle(class_df)\n",
        "class_df = class_df.reset_index(drop=True)\n",
        "class_df.QScore.value_counts()"
      ],
      "execution_count": 32,
      "outputs": [
        {
          "output_type": "execute_result",
          "data": {
            "text/plain": [
              "3A    350\n",
              "2A    240\n",
              "Name: QScore, dtype: int64"
            ]
          },
          "metadata": {},
          "execution_count": 32
        }
      ]
    },
    {
      "cell_type": "markdown",
      "metadata": {
        "id": "r9xDPC704nKp"
      },
      "source": [
        "preparing the dataset to be trained"
      ]
    },
    {
      "cell_type": "code",
      "metadata": {
        "colab": {
          "base_uri": "https://localhost:8080/"
        },
        "id": "T5NiWaHhdqNK",
        "outputId": "44ddb17f-1f83-439a-9b88-26c89fba2543"
      },
      "source": [
        "class_df = class_df.drop(columns=['country_code', 'country', 'year'])\n",
        "X = class_df.drop(columns=['QScore'])\n",
        "y = class_df['QScore']\n",
        "\n",
        "from sklearn.model_selection import train_test_split\n",
        "x_train, x_test, y_train, y_test = train_test_split(X, y, test_size=0.3, random_state=0)\n",
        "y_train.value_counts()"
      ],
      "execution_count": 33,
      "outputs": [
        {
          "output_type": "execute_result",
          "data": {
            "text/plain": [
              "3A    249\n",
              "2A    164\n",
              "Name: QScore, dtype: int64"
            ]
          },
          "metadata": {},
          "execution_count": 33
        }
      ]
    },
    {
      "cell_type": "markdown",
      "metadata": {
        "id": "ZI7Vz-BV7Q_1"
      },
      "source": [
        "normalizing the data"
      ]
    },
    {
      "cell_type": "code",
      "metadata": {
        "id": "l5GVUJZcfhwm"
      },
      "source": [
        "import warnings\n",
        "warnings.filterwarnings('ignore')\n",
        "from sklearn.preprocessing import LabelEncoder\n",
        "\n",
        "encoder = LabelEncoder()\n",
        "x_train.record = encoder.fit_transform(x_train.record)\n",
        "x_test.record = encoder.fit_transform(x_test.record)\n",
        "\n",
        "import imblearn\n",
        "from imblearn.over_sampling import SMOTE\n",
        "smote = SMOTE(random_state=1)\n",
        "x_train_balanced, y_balanced = smote.fit_sample(x_train, y_train)\n",
        "\n",
        "x_train_balanced = pd.DataFrame(x_train_balanced, columns=x_train.columns)\n",
        "from sklearn.preprocessing import MinMaxScaler\n",
        "scaler = MinMaxScaler()\n",
        "normalized_train = scaler.fit_transform(x_train_balanced.drop(columns=['record']))\n",
        "normalized_train = pd.DataFrame(normalized_train, columns=[x_train_balanced.drop(columns=['record']).columns])\n",
        "normalized_train['record'] = x_train_balanced['record']\n",
        "\n",
        "x_test = x_test.reset_index(drop=True)\n",
        "normalized_test = scaler.fit_transform(x_test.drop(columns=['record']))\n",
        "normalized_test = pd.DataFrame(normalized_test, columns=x_test.drop(columns=['record']).columns)\n",
        "normalized_test['record'] = x_test['record']"
      ],
      "execution_count": 46,
      "outputs": []
    }
  ]
}