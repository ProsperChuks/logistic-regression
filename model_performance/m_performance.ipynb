{
  "nbformat": 4,
  "nbformat_minor": 0,
  "metadata": {
    "colab": {
      "name": "m_performance.ipynb",
      "provenance": []
    },
    "kernelspec": {
      "name": "python3",
      "display_name": "Python 3"
    },
    "language_info": {
      "name": "python"
    }
  },
  "cells": [
    {
      "cell_type": "code",
      "metadata": {
        "colab": {
          "base_uri": "https://localhost:8080/"
        },
        "id": "gz-K_g2r_CZn",
        "outputId": "28546785-4491-4821-bbd7-2fd3d022d500"
      },
      "source": [
        "%run '/content/drive/MyDrive/Colab Notebooks/Hamoye Intership/classification/log_regression.ipynb'"
      ],
      "execution_count": 2,
      "outputs": [
        {
          "output_type": "stream",
          "name": "stderr",
          "text": [
            "/usr/local/lib/python3.7/dist-packages/IPython/core/interactiveshell.py:2718: DtypeWarning: Columns (6) have mixed types.Specify dtype option on import or set low_memory=False.\n",
            "  interactivity=interactivity, compiler=compiler, result=result)\n"
          ]
        },
        {
          "output_type": "stream",
          "name": "stdout",
          "text": [
            "3A    51481\n",
            "2A    10576\n",
            "2B    10096\n",
            "1B       16\n",
            "1A       16\n",
            "Name: QScore, dtype: int64\n",
            "\n",
            "\n",
            "country               0\n",
            "year                  0\n",
            "country_code          0\n",
            "record                0\n",
            "crop_land         20472\n",
            "grazing_land      20472\n",
            "forest_land       20472\n",
            "fishing_ground    20473\n",
            "built_up_land     20473\n",
            "carbon            20473\n",
            "total                 9\n",
            "QScore                1\n",
            "dtype: int64\n",
            "\n",
            "\n",
            "country           0\n",
            "year              0\n",
            "country_code      0\n",
            "record            0\n",
            "crop_land         0\n",
            "grazing_land      0\n",
            "forest_land       0\n",
            "fishing_ground    0\n",
            "built_up_land     0\n",
            "carbon            0\n",
            "total             0\n",
            "QScore            0\n",
            "dtype: int64\n",
            "\n",
            "\n",
            "3A    51473\n",
            "2A      224\n",
            "1A       16\n",
            "Name: QScore, dtype: int64\n"
          ]
        }
      ]
    },
    {
      "cell_type": "code",
      "metadata": {
        "colab": {
          "base_uri": "https://localhost:8080/"
        },
        "id": "I_VaBC91RtTi",
        "outputId": "f12cfdfe-f001-4e13-d6e6-6e082555cf43"
      },
      "source": [
        "from sklearn.model_selection import cross_val_score\n",
        "\n",
        "scores = cross_val_score(log_reg, normalized_train, y_balanced, cv=5, scoring='f1_macro')\n",
        "scores"
      ],
      "execution_count": 3,
      "outputs": [
        {
          "output_type": "execute_result",
          "data": {
            "text/plain": [
              "array([0.50179585, 0.46258785, 0.44317065, 0.45180476, 0.52505869])"
            ]
          },
          "metadata": {},
          "execution_count": 3
        }
      ]
    },
    {
      "cell_type": "markdown",
      "metadata": {
        "id": "e955vUDqbNbQ"
      },
      "source": [
        "k-Fold Crosss Validation"
      ]
    },
    {
      "cell_type": "code",
      "metadata": {
        "colab": {
          "base_uri": "https://localhost:8080/"
        },
        "id": "QpjmI7aYbQiX",
        "outputId": "71fa95a1-1fe0-4ff1-a8ad-c36f5fc52041"
      },
      "source": [
        "from sklearn.model_selection import KFold\n",
        "from sklearn.metrics import f1_score\n",
        "kf = KFold(n_splits=5)\n",
        "kf.split(normalized_train)\n",
        "f1_scores = []\n",
        "\n",
        "def _run_():\n",
        "  for train_index, test_index in kf.split(normalized_train):\n",
        "    x_train, x_test = [normalized_train.iloc[train_index], \n",
        "                        normalized_train.iloc[test_index]]\n",
        "    y_train, y_test = [y_balanced.iloc[train_index], \n",
        "                        y_balanced.iloc[test_index]]\n",
        "    model = LogisticRegression().fit(x_train, y_train)\n",
        "    f1_scores.append(f1_score(y_true=y_test, y_pred=model.predict(x_test), pos_label='2A')*100)\n",
        "  return f1_scores\n",
        "\n",
        "_run_()"
      ],
      "execution_count": 4,
      "outputs": [
        {
          "output_type": "execute_result",
          "data": {
            "text/plain": [
              "[61.42857142857142,\n",
              " 57.971014492753625,\n",
              " 55.47445255474452,\n",
              " 54.41176470588236,\n",
              " 0.0]"
            ]
          },
          "metadata": {},
          "execution_count": 4
        }
      ]
    },
    {
      "cell_type": "markdown",
      "metadata": {
        "id": "tKnEXWgJ2ACq"
      },
      "source": [
        "Stratified K-Fold Cross Validation"
      ]
    },
    {
      "cell_type": "code",
      "metadata": {
        "colab": {
          "base_uri": "https://localhost:8080/"
        },
        "id": "eNMhD7oN2GRp",
        "outputId": "486e222b-d777-404f-8842-f31da34aa21d"
      },
      "source": [
        "from sklearn.model_selection import StratifiedKFold\n",
        "skf = StratifiedKFold(n_splits=5, shuffle=True, random_state=1)\n",
        "f1_scores = []\n",
        "\n",
        "def _run_():\n",
        "  for train_index, test_index in skf.split(normalized_train, y_balanced):\n",
        "    x_train, x_test = np.array(normalized_train)[train_index], np.array(normalized_train)[test_index]\n",
        "    y_train, y_test = np.array(y_balanced)[train_index], np.array(y_balanced)[test_index]\n",
        "    model = LogisticRegression().fit(x_train, y_train)\n",
        "    f1_scores.append(f1_score(y_true=y_test, y_pred=model.predict(x_test), pos_label='2A'))\n",
        "  return f1_scores\n",
        "\n",
        "_run_()"
      ],
      "execution_count": 5,
      "outputs": [
        {
          "output_type": "execute_result",
          "data": {
            "text/plain": [
              "[0.6666666666666667,\n",
              " 0.6218487394957984,\n",
              " 0.5535714285714285,\n",
              " 0.6071428571428572,\n",
              " 0.574074074074074]"
            ]
          },
          "metadata": {},
          "execution_count": 5
        }
      ]
    },
    {
      "cell_type": "markdown",
      "metadata": {
        "id": "p-vcKoFzAl7G"
      },
      "source": [
        "Leave One Out Cross Validation (LOOCV)"
      ]
    },
    {
      "cell_type": "code",
      "metadata": {
        "colab": {
          "base_uri": "https://localhost:8080/"
        },
        "id": "CedHp8EuAqnv",
        "outputId": "02f79576-070a-40f1-ee93-376f57a3b0b4"
      },
      "source": [
        "from sklearn.model_selection import LeaveOneOut\n",
        "\n",
        "loo = LeaveOneOut()\n",
        "score = cross_val_score(LogisticRegression(), normalized_train, y_balanced, \n",
        "                        cv=loo, scoring='f1_macro')\n",
        "average_score = score.mean() * 100\n",
        "average_score"
      ],
      "execution_count": 6,
      "outputs": [
        {
          "output_type": "execute_result",
          "data": {
            "text/plain": [
              "34.53815261044177"
            ]
          },
          "metadata": {},
          "execution_count": 6
        }
      ]
    },
    {
      "cell_type": "markdown",
      "metadata": {
        "id": "vG2uwhW4EY91"
      },
      "source": [
        "Confusion Matrix"
      ]
    },
    {
      "cell_type": "code",
      "metadata": {
        "colab": {
          "base_uri": "https://localhost:8080/",
          "height": 278
        },
        "id": "2khex3vHEbf6",
        "outputId": "b1c4df49-e884-433b-db05-04924e000b9d"
      },
      "source": [
        "from sklearn.metrics import recall_score, precision_score, accuracy_score, f1_score, confusion_matrix\n",
        "import seaborn as sns\n",
        "import matplotlib.pyplot as plt\n",
        "\n",
        "new_pred = log_reg.predict(normalized_test)\n",
        "cn_matrix = confusion_matrix(y_test, new_pred, labels=['2A', '3A'])\n",
        "names = ['True Pos','False Pos','False Neg','True Neg']\n",
        "counts = [int('{0:0.0f}'.format(value)) for value in cn_matrix.flatten()]\n",
        "labels = [f\"{v1}\\n{v2}\" for v1, v2 in zip(names, counts)]\n",
        "labels = np.asarray(labels).reshape(2,2)\n",
        "sns.heatmap(cn_matrix, annot=labels, fmt='', linewidths=2, annot_kws={\"size\": 12})\n",
        "plt.xlabel('Actual')\n",
        "plt.ylabel('Predicted')\n",
        "plt.show()"
      ],
      "execution_count": 18,
      "outputs": [
        {
          "output_type": "display_data",
          "data": {
            "image/png": "[encoded data removed]",
            "text/plain": [
              "<Figure size 432x288 with 2 Axes>"
            ]
          },
          "metadata": {
            "needs_background": "light"
          }
        }
      ]
    },
    {
      "cell_type": "markdown",
      "metadata": {
        "id": "9vaUvE62Wq-9"
      },
      "source": [
        "Accuracy\n",
        "\n",
        "![\\Large accuracy=\\frac{TP\\+TN}{TP\\+TN\\+FP\\+FN}](https://latex.codecogs.com/svg.latex?\\Large&space;accuracy=\\frac{TP\\+TN}{TP\\+TN\\+FP\\+FN})"
      ]
    },
    {
      "cell_type": "code",
      "metadata": {
        "colab": {
          "base_uri": "https://localhost:8080/"
        },
        "id": "rxvSwaZ4WsuN",
        "outputId": "d103b4b9-3030-4b1a-8d8e-bf63cd98b3e6"
      },
      "source": [
        "accuracy = accuracy_score(y_true=y_test, y_pred=new_pred)\n",
        "print(\"accuracy: {}\".format(round(accuracy * 100), 2))"
      ],
      "execution_count": 19,
      "outputs": [
        {
          "output_type": "stream",
          "name": "stdout",
          "text": [
            "accuracy: 56\n"
          ]
        }
      ]
    },
    {
      "cell_type": "markdown",
      "metadata": {
        "id": "QkE8KynNcjXx"
      },
      "source": [
        "Precision"
      ]
    },
    {
      "cell_type": "code",
      "metadata": {
        "colab": {
          "base_uri": "https://localhost:8080/"
        },
        "id": "86v3kzXVcjFp",
        "outputId": "dfbb0fbd-dd9a-4127-9d1c-24ca08a95a30"
      },
      "source": [
        "precision = precision_score(y_true=y_test, y_pred=new_pred, pos_label='2A')\n",
        "print(\"precision: {}\".format(round(precision * 100), 2))"
      ],
      "execution_count": 20,
      "outputs": [
        {
          "output_type": "stream",
          "name": "stdout",
          "text": [
            "precision: 49\n"
          ]
        }
      ]
    },
    {
      "cell_type": "markdown",
      "metadata": {
        "id": "8RhijQjGdD-p"
      },
      "source": [
        "Recall"
      ]
    },
    {
      "cell_type": "code",
      "metadata": {
        "colab": {
          "base_uri": "https://localhost:8080/"
        },
        "id": "XgfEKkIAdTdC",
        "outputId": "9a053159-c846-47c5-df12-a2b2d667559f"
      },
      "source": [
        "recall = recall_score(y_true=y_test, y_pred=new_pred, pos_label='2A')\n",
        "print(\"recall: {}\".format(round(recall * 100), 2))"
      ],
      "execution_count": 24,
      "outputs": [
        {
          "output_type": "stream",
          "name": "stdout",
          "text": [
            "recall: 63\n"
          ]
        }
      ]
    },
    {
      "cell_type": "markdown",
      "metadata": {
        "id": "4tJlgeKOdci_"
      },
      "source": [
        "There is a trade-off between Recall and Precision. It is impossible to maximise both metrics simultaneously because an increase in recall decreases precision"
      ]
    },
    {
      "cell_type": "code",
      "metadata": {
        "colab": {
          "base_uri": "https://localhost:8080/"
        },
        "id": "KzLBcurEi9jP",
        "outputId": "8ef2067d-e14a-4c49-97d0-0615cda20421"
      },
      "source": [
        "from sklearn.tree import DecisionTreeClassifier\n",
        "\n",
        "DecisionTreeClassifier().fit(normalized_train, y_balanced)"
      ],
      "execution_count": 25,
      "outputs": [
        {
          "output_type": "execute_result",
          "data": {
            "text/plain": [
              "DecisionTreeClassifier(ccp_alpha=0.0, class_weight=None, criterion='gini',\n",
              "                       max_depth=None, max_features=None, max_leaf_nodes=None,\n",
              "                       min_impurity_decrease=0.0, min_impurity_split=None,\n",
              "                       min_samples_leaf=1, min_samples_split=2,\n",
              "                       min_weight_fraction_leaf=0.0, presort='deprecated',\n",
              "                       random_state=None, splitter='best')"
            ]
          },
          "metadata": {},
          "execution_count": 25
        }
      ]
    }
  ]
}