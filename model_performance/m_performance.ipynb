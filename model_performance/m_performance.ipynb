{
  "nbformat": 4,
  "nbformat_minor": 0,
  "metadata": {
    "colab": {
      "name": "m_performance.ipynb",
      "provenance": []
    },
    "kernelspec": {
      "name": "python3",
      "display_name": "Python 3"
    },
    "language_info": {
      "name": "python"
    }
  },
  "cells": [
    {
      "cell_type": "code",
      "metadata": {
        "id": "gz-K_g2r_CZn"
      },
      "source": [
        "%run '/content/drive/MyDrive/Colab Notebooks/Hamoye Intership/classification/log_regression.ipynb'"
      ],
      "execution_count": null,
      "outputs": []
    },
    {
      "cell_type": "code",
      "metadata": {
        "colab": {
          "base_uri": "https://localhost:8080/"
        },
        "id": "I_VaBC91RtTi",
        "outputId": "4f5a0ec7-6c85-4c3f-ee08-2b194cac0f62"
      },
      "source": [
        "from sklearn.model_selection import cross_val_score\n",
        "\n",
        "scores = cross_val_score(log_reg, normalized_train, y_balanced, cv=5, scoring='f1_macro')\n",
        "scores"
      ],
      "execution_count": 15,
      "outputs": [
        {
          "output_type": "execute_result",
          "data": {
            "text/plain": [
              "array([0.52768566, 0.53051643, 0.5       , 0.56892231, 0.51826576])"
            ]
          },
          "metadata": {},
          "execution_count": 15
        }
      ]
    }
  ]
}