{
  "nbformat": 4,
  "nbformat_minor": 0,
  "metadata": {
    "colab": {
      "name": "m_performance.ipynb",
      "provenance": []
    },
    "kernelspec": {
      "name": "python3",
      "display_name": "Python 3"
    },
    "language_info": {
      "name": "python"
    }
  },
  "cells": [
    {
      "cell_type": "code",
      "metadata": {
        "id": "gz-K_g2r_CZn"
      },
      "source": [
        "%run '/content/drive/MyDrive/Colab Notebooks/Hamoye Intership/classification/log_regression.ipynb'"
      ],
      "execution_count": null,
      "outputs": []
    },
    {
      "cell_type": "code",
      "metadata": {
        "colab": {
          "base_uri": "https://localhost:8080/"
        },
        "id": "I_VaBC91RtTi",
        "outputId": "c9bcc016-4126-4742-dfd2-013aa1970360"
      },
      "source": [
        "from sklearn.model_selection import cross_val_score\n",
        "\n",
        "scores = cross_val_score(log_reg, normalized_train, y_balanced, cv=5, scoring='f1_macro')\n",
        "scores"
      ],
      "execution_count": 16,
      "outputs": [
        {
          "output_type": "execute_result",
          "data": {
            "text/plain": [
              "array([0.45545128, 0.49872123, 0.44994499, 0.40241449, 0.51391162])"
            ]
          },
          "metadata": {},
          "execution_count": 16
        }
      ]
    },
    {
      "cell_type": "markdown",
      "metadata": {
        "id": "e955vUDqbNbQ"
      },
      "source": [
        "k-Fold Crosss Validation"
      ]
    },
    {
      "cell_type": "code",
      "metadata": {
        "colab": {
          "base_uri": "https://localhost:8080/"
        },
        "id": "QpjmI7aYbQiX",
        "outputId": "facc4954-a174-4fc5-bb7d-91faf69e5bf2"
      },
      "source": [
        "from sklearn.model_selection import KFold\n",
        "from sklearn.metrics import f1_score\n",
        "kf = KFold(n_splits=5)\n",
        "kf.split(normalized_train)\n",
        "f1_scores = []\n",
        "\n",
        "def _run_():\n",
        "  for train_index, test_index in kf.split(normalized_train):\n",
        "    x_train, x_test = [normalized_train.iloc[train_index], \n",
        "                        normalized_train.iloc[test_index]]\n",
        "    y_train, y_test = [y_balanced.iloc[train_index], \n",
        "                        y_balanced.iloc[test_index]]\n",
        "    model = LogisticRegression().fit(x_train, y_train)\n",
        "    f1_scores.append(f1_score(y_true=y_test, y_pred=model.predict(x_test), pos_label='2A')*100)\n",
        "  return f1_scores\n",
        "\n",
        "_run_()"
      ],
      "execution_count": 18,
      "outputs": [
        {
          "output_type": "execute_result",
          "data": {
            "text/plain": [
              "[58.156028368794324,\n",
              " 60.99290780141844,\n",
              " 47.36842105263157,\n",
              " 53.03030303030303,\n",
              " 0.0]"
            ]
          },
          "metadata": {},
          "execution_count": 18
        }
      ]
    },
    {
      "cell_type": "markdown",
      "metadata": {
        "id": "tKnEXWgJ2ACq"
      },
      "source": [
        "Stratified K-Fold Cross Validation"
      ]
    },
    {
      "cell_type": "code",
      "metadata": {
        "id": "eNMhD7oN2GRp"
      },
      "source": [
        ""
      ],
      "execution_count": null,
      "outputs": []
    }
  ]
}