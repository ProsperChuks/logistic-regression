{
  "nbformat": 4,
  "nbformat_minor": 0,
  "metadata": {
    "colab": {
      "name": "m_performance.ipynb",
      "provenance": []
    },
    "kernelspec": {
      "name": "python3",
      "display_name": "Python 3"
    },
    "language_info": {
      "name": "python"
    }
  },
  "cells": [
    {
      "cell_type": "code",
      "metadata": {
        "id": "gz-K_g2r_CZn"
      },
      "source": [
        "%run '/content/drive/MyDrive/Colab Notebooks/Hamoye Intership/classification/log_regression.ipynb'"
      ],
      "execution_count": null,
      "outputs": []
    },
    {
      "cell_type": "code",
      "metadata": {
        "colab": {
          "base_uri": "https://localhost:8080/",
          "height": 0
        },
        "id": "I_VaBC91RtTi",
        "outputId": "c9bcc016-4126-4742-dfd2-013aa1970360"
      },
      "source": [
        "from sklearn.model_selection import cross_val_score\n",
        "\n",
        "scores = cross_val_score(log_reg, normalized_train, y_balanced, cv=5, scoring='f1_macro')\n",
        "scores"
      ],
      "execution_count": 16,
      "outputs": [
        {
          "output_type": "execute_result",
          "data": {
            "text/plain": [
              "array([0.45545128, 0.49872123, 0.44994499, 0.40241449, 0.51391162])"
            ]
          },
          "metadata": {},
          "execution_count": 16
        }
      ]
    },
    {
      "cell_type": "markdown",
      "metadata": {
        "id": "e955vUDqbNbQ"
      },
      "source": [
        "k-Fold Crosss Validation"
      ]
    },
    {
      "cell_type": "code",
      "metadata": {
        "colab": {
          "base_uri": "https://localhost:8080/",
          "height": 0
        },
        "id": "QpjmI7aYbQiX",
        "outputId": "c3d0db31-62f4-4599-e5cb-3211d52b797a"
      },
      "source": [
        "from sklearn.model_selection import KFold\n",
        "from sklearn.metrics import f1_score\n",
        "kf = KFold(n_splits=5)\n",
        "kf.split(normalized_train)\n",
        "f1_scores = []\n",
        "\n",
        "def _run_():\n",
        "  for train_index, test_index in kf.split(normalized_train):\n",
        "    x_train, x_test = [normalized_train.iloc[train_index], \n",
        "                        normalized_train.iloc[test_index]]\n",
        "    y_train, y_test = [y_balanced.iloc[train_index], \n",
        "                        y_balanced.iloc[test_index]]\n",
        "    model = LogisticRegression().fit(x_train, y_train)\n",
        "    f1_scores.append(f1_score(y_true=y_test, y_pred=model.predict(x_test), pos_label='2A')*100)\n",
        "  return f1_scores\n",
        "\n",
        "_run_()"
      ],
      "execution_count": 22,
      "outputs": [
        {
          "output_type": "execute_result",
          "data": {
            "text/plain": [
              "[58.156028368794324,\n",
              " 60.99290780141844,\n",
              " 47.36842105263157,\n",
              " 53.03030303030303,\n",
              " 0.0]"
            ]
          },
          "metadata": {},
          "execution_count": 22
        }
      ]
    },
    {
      "cell_type": "markdown",
      "metadata": {
        "id": "tKnEXWgJ2ACq"
      },
      "source": [
        "Stratified K-Fold Cross Validation"
      ]
    },
    {
      "cell_type": "code",
      "metadata": {
        "colab": {
          "base_uri": "https://localhost:8080/",
          "height": 0
        },
        "id": "eNMhD7oN2GRp",
        "outputId": "260fa4a9-997e-40de-a5dc-f0c9a8faa018"
      },
      "source": [
        "from sklearn.model_selection import StratifiedKFold\n",
        "skf = StratifiedKFold(n_splits=5, shuffle=True, random_state=1)\n",
        "f1_scores = []\n",
        "\n",
        "def _run_():\n",
        "  for train_index, test_index in skf.split(normalized_train, y_balanced):\n",
        "    x_train, x_test = np.array(normalized_train)[train_index], np.array(normalized_train)[test_index]\n",
        "    y_train, y_test = np.array(y_balanced)[train_index], np.array(y_balanced)[test_index]\n",
        "    model = LogisticRegression().fit(x_train, y_train)\n",
        "    f1_scores.append(f1_score(y_true=y_test, y_pred=model.predict(x_test), pos_label='2A'))\n",
        "  return f1_scores\n",
        "\n",
        "_run_()"
      ],
      "execution_count": 37,
      "outputs": [
        {
          "output_type": "execute_result",
          "data": {
            "text/plain": [
              "[0.5098039215686274,\n",
              " 0.5333333333333333,\n",
              " 0.46464646464646464,\n",
              " 0.5423728813559322,\n",
              " 0.5950413223140496]"
            ]
          },
          "metadata": {},
          "execution_count": 37
        }
      ]
    },
    {
      "cell_type": "markdown",
      "metadata": {
        "id": "p-vcKoFzAl7G"
      },
      "source": [
        "Leave One Out Cross Validation (LOOCV)"
      ]
    },
    {
      "cell_type": "code",
      "metadata": {
        "colab": {
          "base_uri": "https://localhost:8080/",
          "height": 0
        },
        "id": "CedHp8EuAqnv",
        "outputId": "4eae4e43-f03a-4cc9-8293-9b02414e2d07"
      },
      "source": [
        "from sklearn.model_selection import LeaveOneOut\n",
        "\n",
        "loo = LeaveOneOut()\n",
        "score = cross_val_score(LogisticRegression(), normalized_train, y_balanced, \n",
        "                        cv=loo, scoring='f1_macro')\n",
        "average_score = score.mean() * 100\n",
        "average_score"
      ],
      "execution_count": 41,
      "outputs": [
        {
          "output_type": "execute_result",
          "data": {
            "text/plain": [
              "48.795180722891565"
            ]
          },
          "metadata": {},
          "execution_count": 41
        }
      ]
    },
    {
      "cell_type": "markdown",
      "metadata": {
        "id": "vG2uwhW4EY91"
      },
      "source": [
        "Confusion Matrix"
      ]
    },
    {
      "cell_type": "code",
      "metadata": {
        "colab": {
          "base_uri": "https://localhost:8080/",
          "height": 0
        },
        "id": "2khex3vHEbf6",
        "outputId": "955c0f00-5a06-4d2d-e36f-f9f42da260c8"
      },
      "source": [
        "from sklearn.metrics import recall_score, precision_score, accuracy_score, f1_score, confusion_matrix\n",
        "import seaborn as sns\n",
        "import matplotlib.pyplot as plt\n",
        "\n",
        "new_pred = log_reg.predict(normalized_test)\n",
        "cn_matrix = confusion_matrix(y_true=y_test, y_pred=new_pred, labels=['2A', '3A'])\n",
        "names = ['True Neg','False Pos','False Neg','True Pos']\n",
        "\n",
        "counts = [int('{0:0.0f}'.format(value)) for value in cn_matrix.flatten()]\n",
        "labels = [f\"{v1}\\n{v2}\" for v1, v2 in zip(names, counts)]\n",
        "labels = np.asarray(names).reshape(2,2)\n",
        "sns.heatmap(cn_matrix, annot=np.array(names).reshape(2,2), linewidths=2, annot_kws={\"size\": 12})\n",
        "plt.xlabel('Actual')\n",
        "plt.ylabel('Predicted')\n",
        "plt.show()\n"
      ],
      "execution_count": 117,
      "outputs": [
        {
          "output_type": "execute_result",
          "data": {
            "text/plain": [
              "array([[31, 45],\n",
              "       [45, 56]])"
            ]
          },
          "metadata": {},
          "execution_count": 117
        }
      ]
    },
    {
      "cell_type": "markdown",
      "metadata": {
        "id": "9vaUvE62Wq-9"
      },
      "source": [
        "Accuracy\n",
        "\n",
        "![\\Large accuracy=\\frac{TP\\+TN}{TP\\+TN\\+FP\\+FN}](https://latex.codecogs.com/svg.latex?\\Large&space;accuracy=\\frac{TP\\+TN}{TP\\+TN\\+FP\\+FN})"
      ]
    },
    {
      "cell_type": "code",
      "metadata": {
        "colab": {
          "base_uri": "https://localhost:8080/",
          "height": 0
        },
        "id": "rxvSwaZ4WsuN",
        "outputId": "904f682e-e2ed-409c-c65d-f5ce09a571b6"
      },
      "source": [
        "accuracy = accuracy_score(y_true=y_test, y_pred=new_pred)\n",
        "print(\"accuracy: {}\".format(round(accuracy * 100), 2))"
      ],
      "execution_count": 118,
      "outputs": [
        {
          "output_type": "stream",
          "name": "stdout",
          "text": [
            "accuracy: 49\n"
          ]
        }
      ]
    },
    {
      "cell_type": "markdown",
      "metadata": {
        "id": "QkE8KynNcjXx"
      },
      "source": [
        "Precision"
      ]
    },
    {
      "cell_type": "code",
      "metadata": {
        "colab": {
          "base_uri": "https://localhost:8080/"
        },
        "id": "86v3kzXVcjFp",
        "outputId": "6860ccdb-1973-4958-dc30-67b866547727"
      },
      "source": [
        "precision = precision_score(y_true=y_test, y_pred=new_pred, pos_label='2A')\n",
        "print(\"precision: {}\".format(round(precision * 100), 2))"
      ],
      "execution_count": 120,
      "outputs": [
        {
          "output_type": "stream",
          "name": "stdout",
          "text": [
            "precision: 41\n"
          ]
        }
      ]
    },
    {
      "cell_type": "markdown",
      "metadata": {
        "id": "8RhijQjGdD-p"
      },
      "source": [
        "Recall"
      ]
    },
    {
      "cell_type": "code",
      "metadata": {
        "id": "XgfEKkIAdTdC"
      },
      "source": [
        "recall = recall_score(y_true=y_test, y_pred=new_pred)\n",
        "print(\"recall: {}\".format(round(recall * 100), 2))"
      ],
      "execution_count": null,
      "outputs": []
    },
    {
      "cell_type": "markdown",
      "metadata": {
        "id": "4tJlgeKOdci_"
      },
      "source": [
        "There is a trade-off between Recall and Precision. It is impossible to maximise both metrics simultaneously because an increase in recall decreases precision"
      ]
    }
  ]
}